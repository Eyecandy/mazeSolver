{
 "cells": [
  {
   "cell_type": "code",
   "execution_count": 59,
   "metadata": {
    "collapsed": false
   },
   "outputs": [],
   "source": [
    "from matplotlib import pyplot as plt\n",
    "mazeT = plt.imread('maze.png')\n",
    "maze_TC = mazeT.copy()"
   ]
  },
  {
   "cell_type": "code",
   "execution_count": 60,
   "metadata": {
    "collapsed": false
   },
   "outputs": [],
   "source": [
    "\n",
    "start = []\n",
    "start_found = False\n",
    "end = []\n",
    "end_found = False\n",
    "all_end = []\n",
    "all_start = []\n",
    "\n",
    "for i,row in enumerate(mazeT):\n",
    "    for j,pixel in enumerate(row):\n",
    "        \n",
    "        if pixel[1] > pixel[2] and pixel[1] > pixel[0]:\n",
    "            start_found = True\n",
    "            start  = (i,j)\n",
    "            all_start.append(start)\n",
    "        elif pixel[1] < pixel[0] and pixel[2] < pixel[0]:\n",
    "            end_found = True\n",
    "            end = (i,j)\n",
    "            all_end.append(end)\n",
    "\n",
    "      \n",
    "        \n",
    "         "
   ]
  },
  {
   "cell_type": "code",
   "execution_count": 61,
   "metadata": {
    "collapsed": false
   },
   "outputs": [
    {
     "data": {
      "image/png": "[encoded data removed]",
      "text/plain": [
       "<matplotlib.figure.Figure at 0x12b980990>"
      ]
     },
     "metadata": {},
     "output_type": "display_data"
    }
   ],
   "source": [
    "for e,s in zip(all_start,all_end):\n",
    "    sx,sy = s\n",
    "    ex,ey = e\n",
    "    mazeT[sx][sy] = [0,0,0,0]\n",
    "    mazeT[ex][ey] = [0,0,0,0]\n",
    "    \n",
    "plt.imshow(mazeT)\n",
    "plt.show()\n"
   ]
  },
  {
   "cell_type": "code",
   "execution_count": null,
   "metadata": {
    "collapsed": false
   },
   "outputs": [],
   "source": []
  },
  {
   "cell_type": "code",
   "execution_count": 62,
   "metadata": {
    "collapsed": false
   },
   "outputs": [
    {
     "data": {
      "text/plain": [
       "array([ 0.,  0.,  0.,  0.], dtype=float32)"
      ]
     },
     "execution_count": 62,
     "metadata": {},
     "output_type": "execute_result"
    }
   ],
   "source": [
    "mazeT[sx][sy]\n",
    "mazeT[ex][ey]        \n"
   ]
  },
  {
   "cell_type": "code",
   "execution_count": 63,
   "metadata": {
    "collapsed": false
   },
   "outputs": [],
   "source": [
    "def is_white(point):\n",
    "    x,y = point\n",
    "    pixel = mazeT[x][y]\n",
    "    isTransparent = pixel[-1] == 0\n",
    "    if isTransparent:\n",
    "        return True\n",
    "    else:\n",
    "        return False\n"
   ]
  },
  {
   "cell_type": "code",
   "execution_count": 64,
   "metadata": {
    "collapsed": false
   },
   "outputs": [],
   "source": [
    "def updateQ(v,q,visited):\n",
    "    x,y = v\n",
    "    nbrs = []\n",
    "    p1 = (x + 1 ,y)\n",
    "    p2 = (x -1 , y)\n",
    "    p3 = (x, y+1)\n",
    "    p4 = (x, y-1)\n",
    "    points = [p1,p2,p3,p4]\n",
    "    for child in points:\n",
    "        if is_white(child) and child not in visited:\n",
    "            q.append(child)\n",
    "            nbrs.append(child)\n",
    "    return q,nbrs\n",
    "\n"
   ]
  },
  {
   "cell_type": "code",
   "execution_count": 65,
   "metadata": {
    "collapsed": false
   },
   "outputs": [],
   "source": [
    "\n",
    "def BFS(start,end):\n",
    "    q = [start]\n",
    "    visited = set()\n",
    "    dic = {}\n",
    "    while (len(q) > 0):\n",
    "        v = q.pop(0)\n",
    "        if (end == v):\n",
    "            return dic\n",
    "        if (v not in visited):\n",
    "            visited.add(v)\n",
    "            q,nbrs = updateQ(v,q,visited)\n",
    "            for n in nbrs:\n",
    "                dic[n] = v\n",
    "            \n",
    "    return \"fail\"\n",
    "    \n",
    "path = BFS(start,end)\n"
   ]
  },
  {
   "cell_type": "code",
   "execution_count": 66,
   "metadata": {
    "collapsed": false
   },
   "outputs": [
    {
     "name": "stdout",
     "output_type": "stream",
     "text": [
      "393494\n"
     ]
    }
   ],
   "source": [
    "print len(path)\n"
   ]
  },
  {
   "cell_type": "code",
   "execution_count": 67,
   "metadata": {
    "collapsed": false
   },
   "outputs": [],
   "source": [
    "maze_copy = mazeT.copy()"
   ]
  },
  {
   "cell_type": "code",
   "execution_count": 68,
   "metadata": {
    "collapsed": false
   },
   "outputs": [],
   "source": [
    "xend = path[end]\n",
    "ok =[]\n",
    "maxx_dist = 0\n",
    "c = 0\n",
    "while xend != start:\n",
    "    size = 9\n",
    "    x,y = xend\n",
    "    for i in range(-size,size):\n",
    "        for j in range(-size,size):\n",
    "            maze_copy[x+i][y+j] = [100,0,0,1]\n",
    "    xend = path[xend]\n",
    "\n",
    "\n",
    "\n"
   ]
  },
  {
   "cell_type": "code",
   "execution_count": 69,
   "metadata": {
    "collapsed": false
   },
   "outputs": [
    {
     "data": {
      "image/png": "[encoded data removed]",
      "text/plain": [
       "<matplotlib.figure.Figure at 0x111a27490>"
      ]
     },
     "metadata": {},
     "output_type": "display_data"
    }
   ],
   "source": [
    "plt.imshow(maze_copy)\n",
    "maze_o = plt.imread('maze.png')\n",
    "plt.imshow(maze_o)\n",
    "plt.show()"
   ]
  },
  {
   "cell_type": "code",
   "execution_count": null,
   "metadata": {
    "collapsed": false
   },
   "outputs": [],
   "source": [
    "\n",
    "\n"
   ]
  },
  {
   "cell_type": "code",
   "execution_count": null,
   "metadata": {
    "collapsed": false
   },
   "outputs": [],
   "source": [
    "plt.imshow(maze_copy)\n",
    "maze_o = plt.imread('maze.png')\n",
    "plt.imshow(maze_o)\n",
    "plt.show()\n",
    "\n"
   ]
  },
  {
   "cell_type": "code",
   "execution_count": null,
   "metadata": {
    "collapsed": true
   },
   "outputs": [],
   "source": []
  },
  {
   "cell_type": "code",
   "execution_count": null,
   "metadata": {
    "collapsed": true
   },
   "outputs": [],
   "source": []
  },
  {
   "cell_type": "code",
   "execution_count": null,
   "metadata": {
    "collapsed": true
   },
   "outputs": [],
   "source": []
  }
 ],
 "metadata": {
  "kernelspec": {
   "display_name": "Python 2",
   "language": "python",
   "name": "python2"
  },
  "language_info": {
   "codemirror_mode": {
    "name": "ipython",
    "version": 2
   },
   "file_extension": ".py",
   "mimetype": "text/x-python",
   "name": "python",
   "nbconvert_exporter": "python",
   "pygments_lexer": "ipython2",
   "version": "2.7.13"
  }
 },
 "nbformat": 4,
 "nbformat_minor": 2
}
